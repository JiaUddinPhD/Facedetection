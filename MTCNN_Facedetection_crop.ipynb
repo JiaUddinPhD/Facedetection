{
  "nbformat": 4,
  "nbformat_minor": 0,
  "metadata": {
    "kernelspec": {
      "display_name": "Python 3",
      "language": "python",
      "name": "python3"
    },
    "colab": {
      "name": "Jupyter_version.ipynb",
      "provenance": []
    }
  },
  "cells": [
    {
      "cell_type": "code",
      "metadata": {
        "id": "vBPoa7BzjiEn"
      },
      "source": [
        "import os\n",
        "import cv2\n",
        "import cvlib as cv\n",
        "source_list=os.listdir('D:/Priject_Multimodel/resize/source_dir')\n",
        "for f in source_list:\n",
        "  f_name=os.path.join('D:/Priject_Multimodel/resize/source_dir', f)\n",
        "  image = cv2.imread(f_name)\n",
        "\n",
        "# apply face detection\n",
        "  faces, confidences = cv.detect_face(image)\n",
        "\n",
        "  #print(faces)\n",
        "  #print(confidences)\n",
        "\n",
        "# loop through detected faces\n",
        "  for face,conf in zip(faces,confidences):\n",
        "    (startX,startY) = face[0],face[1]\n",
        "    (endX,endY) = face[2],face[3]\n",
        "\n",
        "    #write bounding box details in text file \n",
        "    #f = open(\"/content/drive/MyDrive/raw_data_2_output/cluster0/resultscvlib/label.txt\", \"a\")\n",
        "    #f.write(f_name+\" \"+str(startX)+\", \"+str(startY)+\", \"+str(endX)+\", \"+str(endY)+\", 0\\n\")\n",
        "\n",
        "    # draw rectangle over face\n",
        "    rectanle=cv2.rectangle(image, (startX,startY), (endX,endY), (0,255,0), 2)\n",
        "    #cropped_face = image[startY:endY, startX:startY]\n",
        "    #cropped_face = image[startY:endY, startX:endX]\n",
        "# display output\n",
        "# press any key to close window           \n",
        "  #cv2.imshow('',image_rec)\n",
        "  cv2.waitKey()\n",
        "\n",
        "# save output\n",
        "  #cv2.imwrite('C:\\\\Users\\\\user\\\\Desktop\\\\Priject_Multimodel\\\\resize\\\\data\\\\images\\\\500\\\\output'+f, cropped_face)\n",
        "  cv2.imwrite('D:/Priject_Multimodel/resize/des_dir/'+f, rectanle)\n",
        "# release resources"
      ],
      "execution_count": null,
      "outputs": []
    },
    {
      "cell_type": "code",
      "metadata": {
        "id": "EBabKztQjiEs"
      },
      "source": [
        ""
      ],
      "execution_count": null,
      "outputs": []
    },
    {
      "cell_type": "code",
      "metadata": {
        "id": "z42n3pKvjiEs"
      },
      "source": [
        ""
      ],
      "execution_count": null,
      "outputs": []
    },
    {
      "cell_type": "code",
      "metadata": {
        "id": "MtB5RLDBjiEs"
      },
      "source": [
        ""
      ],
      "execution_count": null,
      "outputs": []
    },
    {
      "cell_type": "code",
      "metadata": {
        "id": "zHkoAI6zjiEt"
      },
      "source": [
        ""
      ],
      "execution_count": null,
      "outputs": []
    },
    {
      "cell_type": "code",
      "metadata": {
        "id": "AHcjIvt3jiEu"
      },
      "source": [
        ""
      ],
      "execution_count": null,
      "outputs": []
    }
  ]
}