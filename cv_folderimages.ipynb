{
  "nbformat": 4,
  "nbformat_minor": 0,
  "metadata": {
    "kernelspec": {
      "display_name": "Python 3",
      "language": "python",
      "name": "python3"
    },
    "language_info": {
      "codemirror_mode": {
        "name": "ipython",
        "version": 3
      },
      "file_extension": ".py",
      "mimetype": "text/x-python",
      "name": "python",
      "nbconvert_exporter": "python",
      "pygments_lexer": "ipython3",
      "version": "3.7.9"
    },
    "colab": {
      "name": "cv_folderimages.ipynb",
      "provenance": []
    }
  },
  "cells": [
    {
      "cell_type": "code",
      "metadata": {
        "colab": {
          "base_uri": "https://localhost:8080/"
        },
        "id": "weF9pM77pM8O",
        "outputId": "824effc8-847d-43ef-855d-d626d74b1889"
      },
      "source": [
        "!pip install cvlib\n",
        "import cvlib as cv\n",
        "import sys\n",
        "import cv2\n",
        "import os \n",
        "\n",
        "\n",
        "\n",
        "\n"
      ],
      "execution_count": null,
      "outputs": [
        {
          "output_type": "stream",
          "text": [
            "Requirement already satisfied: cvlib in /usr/local/lib/python3.6/dist-packages (0.2.6)\n",
            "Requirement already satisfied: numpy in /usr/local/lib/python3.6/dist-packages (from cvlib) (1.19.5)\n",
            "Requirement already satisfied: imutils in /usr/local/lib/python3.6/dist-packages (from cvlib) (0.5.4)\n",
            "Requirement already satisfied: progressbar in /usr/local/lib/python3.6/dist-packages (from cvlib) (2.5)\n",
            "Requirement already satisfied: pillow in /usr/local/lib/python3.6/dist-packages (from cvlib) (7.0.0)\n",
            "Requirement already satisfied: imageio in /usr/local/lib/python3.6/dist-packages (from cvlib) (2.4.1)\n",
            "Requirement already satisfied: requests in /usr/local/lib/python3.6/dist-packages (from cvlib) (2.23.0)\n",
            "Requirement already satisfied: certifi>=2017.4.17 in /usr/local/lib/python3.6/dist-packages (from requests->cvlib) (2020.12.5)\n",
            "Requirement already satisfied: idna<3,>=2.5 in /usr/local/lib/python3.6/dist-packages (from requests->cvlib) (2.10)\n",
            "Requirement already satisfied: chardet<4,>=3.0.2 in /usr/local/lib/python3.6/dist-packages (from requests->cvlib) (3.0.4)\n",
            "Requirement already satisfied: urllib3!=1.25.0,!=1.25.1,<1.26,>=1.21.1 in /usr/local/lib/python3.6/dist-packages (from requests->cvlib) (1.24.3)\n"
          ],
          "name": "stdout"
        }
      ]
    },
    {
      "cell_type": "code",
      "metadata": {
        "id": "mrj6prEGpY2z"
      },
      "source": [
        "from google.colab.patches import cv2_imshow\n",
        "source_list=os.listdir('/content/drive/MyDrive/source_dir')\n",
        "for f in source_list:\n",
        "  f_name=os.path.join('/content/drive/MyDrive/source_dir', f)\n",
        "  image = cv2.imread(f_name)\n",
        "\n",
        "# apply face detection\n",
        "  faces, confidences = cv.detect_face(image)\n",
        "\n",
        "  #print(faces)\n",
        "  #print(confidences)\n",
        "\n",
        "# loop through detected faces\n",
        "  for face,conf in zip(faces,confidences):\n",
        "    (startX,startY) = face[0],face[1]\n",
        "    (endX,endY) = face[2],face[3]\n",
        "\n",
        "    #write bounding box details in text file \n",
        "    #f = open(\"/content/drive/MyDrive/raw_data_2_output/cluster0/resultscvlib/label.txt\", \"a\")\n",
        "    #f.write(f_name+\" \"+str(startX)+\", \"+str(startY)+\", \"+str(endX)+\", \"+str(endY)+\", 0\\n\")\n",
        "\n",
        "    # draw rectangle over face\n",
        "    cropped_face=cv2.rectangle(image, (startX,startY), (endX,endY), (0,255,0), 2)\n",
        "    #cropped_face = image[startY:endY, startX:startY]\n",
        "\n",
        "# display output\n",
        "# press any key to close window           \n",
        "    cv2_imshow(cropped_face)\n",
        "    cv2.waitKey()\n",
        "\n",
        "# save output\n",
        "    cv2.imwrite('/content/drive/MyDrive/des_dir'+f, cropped_face)\n",
        "\n",
        "# release resources"
      ],
      "execution_count": null,
      "outputs": []
    },
    {
      "cell_type": "code",
      "metadata": {
        "colab": {
          "base_uri": "https://localhost:8080/"
        },
        "id": "XxvQSSdyvp7Z",
        "outputId": "fd1e8e37-3b39-4ca1-b52a-90c2c80c8848"
      },
      "source": [
        "from google.colab import drive\n",
        "drive.mount('/content/drive')"
      ],
      "execution_count": null,
      "outputs": [
        {
          "output_type": "stream",
          "text": [
            "Mounted at /content/drive\n"
          ],
          "name": "stdout"
        }
      ]
    }
  ]
}