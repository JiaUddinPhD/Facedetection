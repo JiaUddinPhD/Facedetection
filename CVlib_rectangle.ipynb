{
  "nbformat": 4,
  "nbformat_minor": 5,
  "metadata": {
    "colab": {
      "name": "CVlib_rectangle.ipynb",
      "provenance": [],
      "collapsed_sections": []
    },
    "kernelspec": {
      "display_name": "Python 3",
      "language": "python",
      "name": "python3"
    },
    "language_info": {
      "codemirror_mode": {
        "name": "ipython",
        "version": 3
      },
      "file_extension": ".py",
      "mimetype": "text/x-python",
      "name": "python",
      "nbconvert_exporter": "python",
      "pygments_lexer": "ipython3",
      "version": "3.7.9"
    },
    "accelerator": "GPU"
  },
  "cells": [
    {
      "cell_type": "code",
      "metadata": {
        "id": "OZY0H6mFUI8k"
      },
      "source": [
        "source_list=os.listdir('/content/drive/MyDrive/source_dir')\n",
        "for f in source_list:\n",
        "  f_name=os.path.join('/content/drive/MyDrive/source_dir', f)\n",
        "  image = cv2.imread(f_name)\n",
        "\n",
        "# apply face detection\n",
        "  faces, confidences = cv.detect_face(image)\n",
        "\n",
        "  #print(faces)\n",
        "  #print(confidences)\n",
        "\n",
        "# loop through detected faces\n",
        "  for face,conf in zip(faces,confidences):\n",
        "    (startX,startY) = face[0],face[1]\n",
        "    (endX,endY) = face[2],face[3]\n",
        "\n",
        "    #write bounding box details in text file \n",
        "    #f = open(\"/content/drive/MyDrive/raw_data_2_output/cluster0/resultscvlib/label.txt\", \"a\")\n",
        "    #f.write(f_name+\" \"+str(startX)+\", \"+str(startY)+\", \"+str(endX)+\", \"+str(endY)+\", 0\\n\")\n",
        "\n",
        "    # draw rectangle over face\n",
        "    cv2.rectangle(image, (startX,startY), (endX,endY), (255,255,255), 2)\n",
        "    cropped_face = image[startY:endY, startX:endX]\n",
        "\n",
        "# display output\n",
        "# press any key to close window           \n",
        "    #cv2_imshow(cropped_face)\n",
        "    #cv2.waitKey()\n",
        "\n",
        "# save output\n",
        "cv2.imwrite('/content/drive/MyDrive/des_dir/'+f, cropped_face)\n",
        "\n",
        "# release resources"
      ],
      "id": "OZY0H6mFUI8k",
      "execution_count": null,
      "outputs": []
    },
    {
      "cell_type": "code",
      "metadata": {
        "id": "9lkaARWs-QDt"
      },
      "source": [
        "!pip install cvlib\n",
        "import cvlib as cv\n",
        "import sys\n",
        "import cv2\n",
        "import os \n",
        "from google.colab.patches import cv2_imshow"
      ],
      "id": "9lkaARWs-QDt",
      "execution_count": null,
      "outputs": []
    }
  ]
}