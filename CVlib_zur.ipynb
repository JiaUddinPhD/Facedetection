{
  "nbformat": 4,
  "nbformat_minor": 5,
  "metadata": {
    "kernelspec": {
      "display_name": "Python 3",
      "language": "python",
      "name": "python3"
    },
    "language_info": {
      "codemirror_mode": {
        "name": "ipython",
        "version": 3
      },
      "file_extension": ".py",
      "mimetype": "text/x-python",
      "name": "python",
      "nbconvert_exporter": "python",
      "pygments_lexer": "ipython3",
      "version": "3.7.9"
    },
    "colab": {
      "name": "CVlib_zur.ipynb",
      "provenance": [],
      "collapsed_sections": []
    }
  },
  "cells": [
    {
      "cell_type": "code",
      "metadata": {
        "colab": {
          "base_uri": "https://localhost:8080/"
        },
        "id": "ddi2OL44UI8d",
        "outputId": "987c3594-32db-4156-d7b8-4e1ad0fe87da"
      },
      "source": [
        "# import necessary packages\n",
        "!pip install cvlib\n",
        "import cvlib as cv\n",
        "import sys\n",
        "import cv2\n",
        "import os \n",
        "from google.colab.patches import cv2_imshow\n"
      ],
      "id": "ddi2OL44UI8d",
      "execution_count": null,
      "outputs": [
        {
          "output_type": "stream",
          "text": [
            "Collecting cvlib\n",
            "\u001b[?25l  Downloading https://files.pythonhosted.org/packages/2f/ef/2ca8ee0fa5353ae1054f410324509f5134d2546dbdcb69f0c36d93005099/cvlib-0.2.6.tar.gz (10.0MB)\n",
            "\u001b[K     |████████████████████████████████| 10.1MB 7.6MB/s \n",
            "\u001b[?25hRequirement already satisfied: numpy in /usr/local/lib/python3.6/dist-packages (from cvlib) (1.19.5)\n",
            "Collecting progressbar\n",
            "  Downloading https://files.pythonhosted.org/packages/a3/a6/b8e451f6cff1c99b4747a2f7235aa904d2d49e8e1464e0b798272aa84358/progressbar-2.5.tar.gz\n",
            "Requirement already satisfied: requests in /usr/local/lib/python3.6/dist-packages (from cvlib) (2.23.0)\n",
            "Requirement already satisfied: pillow in /usr/local/lib/python3.6/dist-packages (from cvlib) (7.0.0)\n",
            "Requirement already satisfied: imageio in /usr/local/lib/python3.6/dist-packages (from cvlib) (2.4.1)\n",
            "Requirement already satisfied: imutils in /usr/local/lib/python3.6/dist-packages (from cvlib) (0.5.4)\n",
            "Requirement already satisfied: certifi>=2017.4.17 in /usr/local/lib/python3.6/dist-packages (from requests->cvlib) (2020.12.5)\n",
            "Requirement already satisfied: urllib3!=1.25.0,!=1.25.1,<1.26,>=1.21.1 in /usr/local/lib/python3.6/dist-packages (from requests->cvlib) (1.24.3)\n",
            "Requirement already satisfied: idna<3,>=2.5 in /usr/local/lib/python3.6/dist-packages (from requests->cvlib) (2.10)\n",
            "Requirement already satisfied: chardet<4,>=3.0.2 in /usr/local/lib/python3.6/dist-packages (from requests->cvlib) (3.0.4)\n",
            "Building wheels for collected packages: cvlib, progressbar\n",
            "  Building wheel for cvlib (setup.py) ... \u001b[?25l\u001b[?25hdone\n",
            "  Created wheel for cvlib: filename=cvlib-0.2.6-cp36-none-any.whl size=10044621 sha256=79168ef13ed74a6ee7cd5be6c2b03986774d8f1f3961c78cd842889955271b5a\n",
            "  Stored in directory: /root/.cache/pip/wheels/5e/a4/99/8dfcae03a6f93bb4084650d0b642ef5a472429928fb95ffd01\n",
            "  Building wheel for progressbar (setup.py) ... \u001b[?25l\u001b[?25hdone\n",
            "  Created wheel for progressbar: filename=progressbar-2.5-cp36-none-any.whl size=12075 sha256=1feb8827d280d6a248046fe7c4404db295748ffe773b39e3839e24a38c0f84f1\n",
            "  Stored in directory: /root/.cache/pip/wheels/c0/e9/6b/ea01090205e285175842339aa3b491adeb4015206cda272ff0\n",
            "Successfully built cvlib progressbar\n",
            "Installing collected packages: progressbar, cvlib\n",
            "Successfully installed cvlib-0.2.6 progressbar-2.5\n"
          ],
          "name": "stdout"
        }
      ]
    },
    {
      "cell_type": "code",
      "metadata": {
        "colab": {
          "base_uri": "https://localhost:8080/"
        },
        "id": "wlDtfWigeYSc",
        "outputId": "2499ed34-1f6e-42a1-b751-3f318741dbca"
      },
      "source": [
        "from google.colab import drive\n",
        "drive.mount('/content/drive')"
      ],
      "id": "wlDtfWigeYSc",
      "execution_count": null,
      "outputs": [
        {
          "output_type": "stream",
          "text": [
            "Mounted at /content/drive\n"
          ],
          "name": "stdout"
        }
      ]
    },
    {
      "cell_type": "code",
      "metadata": {
        "id": "l8fAjgcP61dn"
      },
      "source": [
        "f = open(\"/content/drive/MyDrive/raw_data_2_output/cluster0/resultscvlib/label.txt\", \"a\")\n",
        "f.write(\"Now the file has more content!\")\n"
      ],
      "id": "l8fAjgcP61dn",
      "execution_count": null,
      "outputs": []
    },
    {
      "cell_type": "code",
      "metadata": {
        "id": "OZY0H6mFUI8k"
      },
      "source": [
        "source_list=os.listdir('/content/drive/MyDrive/raw_data_2_output/cluster3/c3')\n",
        "for f in source_list:\n",
        "  f_name=os.path.join('/content/drive/MyDrive/raw_data_2_output/cluster3/c3', f)\n",
        "  image = cv2.imread(f_name)\n",
        "\n",
        "# apply face detection\n",
        "  faces, confidences = cv.detect_face(image)\n",
        "\n",
        "  #print(faces)\n",
        "  #print(confidences)\n",
        "\n",
        "# loop through detected faces\n",
        "  for face,conf in zip(faces,confidences):\n",
        "    (startX,startY) = face[0],face[1]\n",
        "    (endX,endY) = face[2],face[3]\n",
        "    \n",
        "    #write bounding box details in text file \n",
        "    #f = open(\"/content/drive/MyDrive/raw_data_2_output/cluster0/resultscvlib/label.txt\", \"a\")\n",
        "    #f.write(f_name+\" \"+str(startX)+\", \"+str(startY)+\", \"+str(endX)+\", \"+str(endY)+\", 0\\n\")\n",
        "\n",
        "    # draw rectangle over face\n",
        "    cv2.rectangle(image, (startX,startY), (endX,endY), (0,255,0), 2)\n",
        "\n",
        "# display output\n",
        "# press any key to close window           \n",
        "  cv2_imshow(image)\n",
        "  cv2.waitKey()\n",
        "\n",
        "# save output\n",
        "  cv2.imwrite('/content/drive/MyDrive/raw_data_2_output/cluster0/resultscvlib/'+f, image)\n",
        "\n",
        "# release resources"
      ],
      "id": "OZY0H6mFUI8k",
      "execution_count": null,
      "outputs": []
    },
    {
      "cell_type": "code",
      "metadata": {
        "id": "n5Wj5Y-HUI8m"
      },
      "source": [
        ""
      ],
      "id": "n5Wj5Y-HUI8m",
      "execution_count": null,
      "outputs": []
    }
  ]
}